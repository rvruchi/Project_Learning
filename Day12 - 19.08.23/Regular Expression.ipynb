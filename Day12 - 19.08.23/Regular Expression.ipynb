{
 "cells": [
  {
   "cell_type": "markdown",
   "id": "2cec8b5f",
   "metadata": {},
   "source": [
    "# Regular Expression\n",
    "\n",
    "\n",
    "import re\n",
    "\n",
    "\n",
    "**TIP** : a pattern is extracted -> ClEANING -> ACTION\n",
    "**TIP** : implement multiple regular exp to fetch all relevant patterns and then do concatenate the list\n",
    "\n"
   ]
  },
  {
   "cell_type": "markdown",
   "id": "db993f38",
   "metadata": {},
   "source": [
    "### 1. findall\n",
    "\n",
    "re.findall(pattern, stringName)"
   ]
  },
  {
   "cell_type": "code",
   "execution_count": 2,
   "id": "bb9583d8",
   "metadata": {},
   "outputs": [
    {
     "data": {
      "text/plain": [
       "['p', 'p', 'p', 'p', 'p', 'p', 'p', 'p']"
      ]
     },
     "execution_count": 2,
     "metadata": {},
     "output_type": "execute_result"
    }
   ],
   "source": [
    "## Exract the pattern that starts with \"p\"\n",
    "import re\n",
    "\n",
    "myString = \"python programming p pool pretrained trap trapped\"\n",
    "\n",
    "res = re.findall(\"p\", myString)\n",
    "res\n"
   ]
  },
  {
   "cell_type": "code",
   "execution_count": 3,
   "id": "2d885137",
   "metadata": {},
   "outputs": [
    {
     "data": {
      "text/plain": [
       "['pyth', 'prog', 'pool', 'pret', 'pped']"
      ]
     },
     "execution_count": 3,
     "metadata": {},
     "output_type": "execute_result"
    }
   ],
   "source": [
    "## Exract the pattern that starts with \"p\" and is 4 char long\n",
    "import re\n",
    "\n",
    "myString = \"python programming p pool pretrained trap trapped\"\n",
    "\n",
    "res = re.findall(\"p\\w\\w\\w\", myString) # p _ _ _\n",
    "res\n"
   ]
  },
  {
   "cell_type": "code",
   "execution_count": 5,
   "id": "5000896d",
   "metadata": {},
   "outputs": [
    {
     "data": {
      "text/plain": [
       "['pool']"
      ]
     },
     "execution_count": 5,
     "metadata": {},
     "output_type": "execute_result"
    }
   ],
   "source": [
    "## Exract the word that starts with \"p\" and is 4 char long\n",
    "import re\n",
    "\n",
    "myString = \"python programming p pool pretrained trap trapped\"\n",
    "\n",
    "res = re.findall(r\"\\bp\\w\\w\\w\\b\", myString) # p _ _ _\n",
    "res\n"
   ]
  },
  {
   "cell_type": "code",
   "execution_count": 10,
   "id": "c89fa8b4",
   "metadata": {},
   "outputs": [
    {
     "name": "stdout",
     "output_type": "stream",
     "text": [
      "['python', 'pp0011']\n",
      "['python', 'pp0011']\n"
     ]
    }
   ],
   "source": [
    "## Exract the word that starts with \"p\" and is 6 char long\n",
    "import re\n",
    "\n",
    "myString = \"python programming p pool pretrained trap trapped smallpox#12 s99pray p987 pp0011\"\n",
    "\n",
    "res = re.findall(r\"\\bp\\w\\w\\w\\w\\w\\b\", myString) # p _ _ _ _ _\n",
    "print( res )\n",
    "\n",
    "\n",
    "res = re.findall(r\"\\bp\\w{5}\\b\", myString) # p _ _ _ _ _ \n",
    "print( res )\n"
   ]
  },
  {
   "cell_type": "code",
   "execution_count": 17,
   "id": "e0f04c33",
   "metadata": {},
   "outputs": [
    {
     "name": "stdout",
     "output_type": "stream",
     "text": [
      "Patterns Found :  ['python', 'programming', 'pool', 'pretrained', 'p987', 'pp0011']\n"
     ]
    }
   ],
   "source": [
    "## Exract the word that starts with \"p\" and is min 4 char long\n",
    "\n",
    "import re\n",
    "\n",
    "myString = \"python programming p pool pretrained trap trapped smallpox#12 s99pray p987 pp0011\"\n",
    "\n",
    "res = re.findall(r\"\\bp\\w{3,}\\b\", myString) # p _ _ _ .....\n",
    "\n",
    "if res : \n",
    "    print(\"Patterns Found : \",  res )\n",
    "else : \n",
    "    print(\"No Such Pattern Fetched..\")"
   ]
  },
  {
   "cell_type": "code",
   "execution_count": 18,
   "id": "72e5a2fd",
   "metadata": {},
   "outputs": [
    {
     "name": "stdout",
     "output_type": "stream",
     "text": [
      "No Such Pattern Fetched..\n"
     ]
    }
   ],
   "source": [
    "## Exract the word that starts with \"z\" and is min 4 char long\n",
    "\n",
    "import re\n",
    "\n",
    "myString = \"python programming p pool pretrained trap trapped smallpox#12 s99pray p987 pp0011\"\n",
    "\n",
    "res = re.findall(r\"\\bz\\w{3,}\\b\", myString) # p _ _ _ .....\n",
    "\n",
    "if res : \n",
    "    print(\"Patterns Found : \",  res )\n",
    "else : \n",
    "    print(\"No Such Pattern Fetched..\")"
   ]
  },
  {
   "cell_type": "code",
   "execution_count": 20,
   "id": "fdab67e2",
   "metadata": {},
   "outputs": [
    {
     "name": "stdout",
     "output_type": "stream",
     "text": [
      "Patterns Found :  ['python', 'pp', 'programming', 'p', 'pool', 'pretrained', 'p987', 'pp0011']\n",
      "Patterns Found :  ['python', 'pp', 'programming', 'p', 'pool', 'pretrained', 'p987', 'pp0011']\n"
     ]
    }
   ],
   "source": [
    "## Exract the word that starts with \"p\" and is min 1 char long\n",
    "\n",
    "import re\n",
    "\n",
    "myString = \"python pp programming p pool pretrained trap trapped smallpox#12 s99pray p987 pp0011\"\n",
    "\n",
    "res = re.findall(r\"\\bp\\w{0,}\\b\", myString) # p .....\n",
    "\n",
    "if res : \n",
    "    print(\"Patterns Found : \",  res )\n",
    "else : \n",
    "    print(\"No Such Pattern Fetched..\")\n",
    "    \n",
    "    \n",
    "res = re.findall(r\"\\bp\\w*\\b\", myString) # p .....\n",
    "\n",
    "if res : \n",
    "    print(\"Patterns Found : \",  res )\n",
    "else : \n",
    "    print(\"No Such Pattern Fetched..\")"
   ]
  },
  {
   "cell_type": "code",
   "execution_count": 28,
   "id": "2497033e",
   "metadata": {},
   "outputs": [
    {
     "name": "stdout",
     "output_type": "stream",
     "text": [
      "m\n",
      "a\n",
      "d\n",
      "a\n",
      "m\n"
     ]
    },
    {
     "data": {
      "text/plain": [
       "'madam'"
      ]
     },
     "execution_count": 28,
     "metadata": {},
     "output_type": "execute_result"
    }
   ],
   "source": [
    "# there is a hidden alphabet in the string. find out weather its palindrome or not ???\n",
    "# word = madam\n",
    "\n",
    "inputString = \"!@#m$%^&*a()+}{d:?>a<}/*-+][;'/.m,']\"\n",
    "\n",
    "output = \"\"\n",
    "for char in inputString : \n",
    "    if char.isalpha() : \n",
    "        print(char)\n",
    "        output = output + char\n",
    "output"
   ]
  },
  {
   "cell_type": "code",
   "execution_count": 27,
   "id": "8bd4911a",
   "metadata": {},
   "outputs": [
    {
     "data": {
      "text/plain": [
       "'madam'"
      ]
     },
     "execution_count": 27,
     "metadata": {},
     "output_type": "execute_result"
    }
   ],
   "source": [
    "# there is a hidden alphabet in the string. find out weather its palindrome or not ???\n",
    "# word = madam\n",
    "\n",
    "inputString = \"!@#m$%^&*a()+}{d:?>a<}/*-+][;'/.m,']\"\n",
    "\n",
    "res = re.findall( r\"\\w\", inputString )\n",
    "\"\".join(res)\n"
   ]
  },
  {
   "cell_type": "code",
   "execution_count": 32,
   "id": "3fcfdd13",
   "metadata": {},
   "outputs": [
    {
     "data": {
      "text/plain": [
       "['0', '1', '2', '3', '6', '5', '4', '7', '8', '9']"
      ]
     },
     "execution_count": 32,
     "metadata": {},
     "output_type": "execute_result"
    }
   ],
   "source": [
    "inputString = \"!@#m$%^&*a()+}{d:?>a<}/*-+][;'/.m,']0123654789\"\n",
    "res = re.findall( r\"\\d\", inputString )\n",
    "res\n",
    "\n"
   ]
  },
  {
   "cell_type": "code",
   "execution_count": 33,
   "id": "e2068760",
   "metadata": {},
   "outputs": [
    {
     "data": {
      "text/plain": [
       "['9987455521']"
      ]
     },
     "execution_count": 33,
     "metadata": {},
     "output_type": "execute_result"
    }
   ],
   "source": [
    "# Extract all mobile numbers\n",
    "\n",
    "msg = \"an otp 5885 is sent to mobile numbers 9987455521 and 99666633\"\n",
    "# string split - isdigit() - chech len for mobile\n",
    "\n",
    "res = re.findall(r\"\\b\\d{10}\\b\", msg)\n",
    "res\n",
    "\n"
   ]
  },
  {
   "cell_type": "code",
   "execution_count": 36,
   "id": "23240c5e",
   "metadata": {},
   "outputs": [
    {
     "name": "stdout",
     "output_type": "stream",
     "text": [
      "Patterns Found :  ['1', '2', '3', '4', '5', '6', '7', '8', '9', '10', '11', '14', '12']\n"
     ]
    }
   ],
   "source": [
    "# extract all the numbers\n",
    "\n",
    "numbers = \"1 2 3 4 5 6 7 8 9 10 11 four14 one two three four five six, seven eight nine ten eleven T12\"\n",
    "\n",
    "res = re.findall(r\"\\d{1,}\", numbers) # p .....\n",
    "\n",
    "if res : \n",
    "    print(\"Patterns Found : \",  res )\n",
    "else : \n",
    "    print(\"No Such Pattern Fetched..\")\n",
    "\n"
   ]
  },
  {
   "cell_type": "code",
   "execution_count": 37,
   "id": "0350a63b",
   "metadata": {},
   "outputs": [
    {
     "name": "stdout",
     "output_type": "stream",
     "text": [
      "Patterns Found :  ['1', '2', '3', '4', '5', '6', '7', '8', '9', '10', '11']\n"
     ]
    }
   ],
   "source": [
    "# extract all the numbers only, not patterns\n",
    "\n",
    "numbers = \"1 2 3 4 5 6 7 8 9 10 11 four14 one two three four five six, seven eight nine ten eleven T12\"\n",
    "\n",
    "res = re.findall(r\"\\b\\d{1,}\\b\", numbers) # p .....\n",
    "\n",
    "if res : \n",
    "    print(\"Patterns Found : \",  res )\n",
    "else : \n",
    "    print(\"No Such Pattern Fetched..\")\n",
    "\n"
   ]
  },
  {
   "cell_type": "code",
   "execution_count": null,
   "id": "57dca891",
   "metadata": {},
   "outputs": [],
   "source": []
  },
  {
   "cell_type": "code",
   "execution_count": 48,
   "id": "22369478",
   "metadata": {},
   "outputs": [
    {
     "name": "stdout",
     "output_type": "stream",
     "text": [
      "Patterns Found :  [' @hulk ', ' @flash ', ' @vision ']\n"
     ]
    }
   ],
   "source": [
    "# Find all the words that start with pattern @\n",
    "\n",
    "tags = \"#superman ironman @hulk #antman #batman @flash $wonderwoman $blackwidow @vision !arrow sun moon e@rth jupyt#er\"\n",
    "\n",
    "res = re.findall(r\"\\s@\\w{1,}\\s\", tags) \n",
    "\n",
    "if res : \n",
    "    print(\"Patterns Found : \",  res )\n",
    "else : \n",
    "    print(\"No Such Pattern Fetched..\")\n",
    "\n",
    "    \n",
    "# res = re.findall(r\"@\\w+\\b\", tags) \n",
    "\n",
    "# if res : \n",
    "#     print(\"Patterns Found : \",  res )\n",
    "# else : \n",
    "#     print(\"No Such Pattern Fetched..\")\n"
   ]
  },
  {
   "cell_type": "code",
   "execution_count": 53,
   "id": "92e48281",
   "metadata": {},
   "outputs": [
    {
     "name": "stdout",
     "output_type": "stream",
     "text": [
      "Patterns Found :  [' e@rth ']\n"
     ]
    }
   ],
   "source": [
    "w = \" e@rth \"\n",
    "\n",
    "res = re.findall(r\"\\s\\w@\\w{1,}\\s\", w) \n",
    "\n",
    "if res : \n",
    "    print(\"Patterns Found : \",  res )\n",
    "else : \n",
    "    print(\"No Such Pattern Fetched..\")\n"
   ]
  },
  {
   "cell_type": "code",
   "execution_count": null,
   "id": "0c63a9eb",
   "metadata": {},
   "outputs": [],
   "source": []
  },
  {
   "cell_type": "code",
   "execution_count": 59,
   "id": "048923b4",
   "metadata": {},
   "outputs": [
    {
     "name": "stdout",
     "output_type": "stream",
     "text": [
      "Patterns Found :  [' @hulk ', ' @flash ', ' @vision ']\n",
      "Patterns Found :  ['#superman ', '#antman ', '#batman ']\n"
     ]
    }
   ],
   "source": [
    "# Find all the words that start with pattern @ or #\n",
    "\n",
    "tags = \"#superman ironman @hulk #antman #batman @flash $wonderwoman $blackwidow @vision !arrow sun moon e@rth jupyt#er\"\n",
    "\n",
    "\n",
    "res = re.findall(r\"\\s@\\w{1,}\\s\", tags) \n",
    "\n",
    "if res : \n",
    "    print(\"Patterns Found : \",  res )\n",
    "else : \n",
    "    print(\"No Such Pattern Fetched..\")\n",
    "    \n",
    "\n",
    "res2 = re.findall(r\"#\\w{1,}\\s\", tags) \n",
    "\n",
    "if res2 : \n",
    "    print(\"Patterns Found : \",  res2 )\n",
    "else : \n",
    "    print(\"No Such Pattern Fetched..\")\n",
    "    \n",
    "    "
   ]
  },
  {
   "cell_type": "code",
   "execution_count": 87,
   "id": "dc53fc3c",
   "metadata": {},
   "outputs": [
    {
     "name": "stdout",
     "output_type": "stream",
     "text": [
      "Patterns Found :  ['two', 'three', 'th']\n"
     ]
    }
   ],
   "source": [
    "# extract all the words that either start with \"t\" and next char can be \"w\" or \"h\"\n",
    "\n",
    "numbers = \"1 2 3 4 5 6 7 8 9 10 11 four14 one two three th four five six, seven eight nine ten eleven t12\"\n",
    "\n",
    "# res = re.findall(r\"th\\w{0,}\", numbers) # t w ...\n",
    "\n",
    "res = re.findall(r\"t[wh]\\w{0,}\", numbers) # t _ \n",
    "\n",
    "if res : \n",
    "    print(\"Patterns Found : \",  res )\n",
    "else : \n",
    "    print(\"No Such Pattern Fetched..\")\n",
    "\n"
   ]
  },
  {
   "cell_type": "code",
   "execution_count": 73,
   "id": "30655a12",
   "metadata": {},
   "outputs": [
    {
     "name": "stdout",
     "output_type": "stream",
     "text": [
      "Patterns Found :  ['to', 'ten']\n"
     ]
    }
   ],
   "source": [
    "# extract all the words that either start with \"t\" and next char shall be a vowel\n",
    "\n",
    "numbers = \"1 2 3 4 5 6 7 8 9 10 11 four14 one two three four t five six, seven to eight nine ten eleven t12\"\n",
    "\n",
    "res = re.findall(r\"t[aeiouAEIOU]\\w{0,}\", numbers) # t _\n",
    "\n",
    "if res : \n",
    "    print(\"Patterns Found : \",  res )\n",
    "else : \n",
    "    print(\"No Such Pattern Fetched..\")\n",
    "\n"
   ]
  },
  {
   "cell_type": "code",
   "execution_count": 81,
   "id": "8e6f2746",
   "metadata": {},
   "outputs": [
    {
     "name": "stdout",
     "output_type": "stream",
     "text": [
      "Patterns Found :  ['t12']\n"
     ]
    }
   ],
   "source": [
    "# extract all the words that either start with \"t\" and next char shall be numbers\n",
    "\n",
    "numbers = \"1 2 3 4 5 6 7 8 9 10 11 four14 one two three four five six, seven eight nine ten eleven t12 t3seven\"\n",
    "\n",
    "res = re.findall(r\"t\\d{1,}\\b\", numbers) # p .....\n",
    "\n",
    "if res : \n",
    "    print(\"Patterns Found : \",  res )\n",
    "else : \n",
    "    print(\"No Such Pattern Fetched..\")\n",
    "\n"
   ]
  },
  {
   "cell_type": "code",
   "execution_count": 93,
   "id": "cb9eb181",
   "metadata": {},
   "outputs": [
    {
     "name": "stdout",
     "output_type": "stream",
     "text": [
      "Patterns Found :  ['two', 'three', 't five', 't nine', 't12']\n"
     ]
    }
   ],
   "source": [
    "# extract all the words that either start with \"t\" and next char shall NOT be a vowel\n",
    "\n",
    "numbers = \"1 2 3 4 5 6 7 8 9 10 11 four14 one two three four t five six, seven to eight nine ten eleven t12\"\n",
    "\n",
    "res = re.findall(r\"t[^aeiouAEIOU]\\w{0,}\", numbers) # t _\n",
    "\n",
    "if res : \n",
    "    print(\"Patterns Found : \",  res )\n",
    "else : \n",
    "    print(\"No Such Pattern Fetched..\")\n",
    "\n"
   ]
  },
  {
   "cell_type": "code",
   "execution_count": null,
   "id": "fd38c014",
   "metadata": {},
   "outputs": [],
   "source": []
  },
  {
   "cell_type": "code",
   "execution_count": null,
   "id": "7c4bed72",
   "metadata": {},
   "outputs": [],
   "source": []
  },
  {
   "cell_type": "markdown",
   "id": "df12d091",
   "metadata": {},
   "source": [
    "### 2. search\n",
    "\n",
    "return answer if first pattern is found in the string\n",
    "\n",
    "re.search(pattern, stringName)\n",
    "\n",
    "use, group() method to extarct the res"
   ]
  },
  {
   "cell_type": "code",
   "execution_count": 96,
   "id": "48d46e16",
   "metadata": {},
   "outputs": [
    {
     "name": "stdout",
     "output_type": "stream",
     "text": [
      "Patterns Found :  ['pool', 'prog']\n"
     ]
    }
   ],
   "source": [
    "## Exract the word that starts with \"p\" and is 4 char long\n",
    "import re\n",
    "\n",
    "myString = \"python programming p pool pretrained prog trap trapped\"\n",
    "\n",
    "res = re.findall(r\"\\bp\\w\\w\\w\\b\", myString) # p _ _ _\n",
    "\n",
    "if res : \n",
    "    print(\"Patterns Found : \",  res )\n",
    "else : \n",
    "    print(\"No Such Pattern Fetched..\")\n"
   ]
  },
  {
   "cell_type": "code",
   "execution_count": 98,
   "id": "d1c3c3ed",
   "metadata": {},
   "outputs": [
    {
     "name": "stdout",
     "output_type": "stream",
     "text": [
      "Patterns Found :  pool\n"
     ]
    }
   ],
   "source": [
    "## Exract the word that starts with \"p\" and is 4 char long\n",
    "import re\n",
    "\n",
    "myString = \"python programming p pool pretrained prog trap trapped\"\n",
    "\n",
    "res = re.search(r\"\\bp\\w\\w\\w\\b\", myString) # p _ _ _\n",
    "\n",
    "if res : \n",
    "    print(\"Patterns Found : \",  res.group() )\n",
    "else : \n",
    "    print(\"No Such Pattern Fetched..\")\n"
   ]
  },
  {
   "cell_type": "code",
   "execution_count": null,
   "id": "3d037644",
   "metadata": {},
   "outputs": [],
   "source": []
  },
  {
   "cell_type": "markdown",
   "id": "3bb18364",
   "metadata": {},
   "source": [
    "### 3. match\n",
    "\n",
    "return answer if first WORD pattern is found in the string\n",
    "\n",
    "re.search(pattern, stringName)\n",
    "\n",
    "use, group() method to extarct the res"
   ]
  },
  {
   "cell_type": "code",
   "execution_count": 99,
   "id": "6c29c9d8",
   "metadata": {},
   "outputs": [
    {
     "name": "stdout",
     "output_type": "stream",
     "text": [
      "No Such Pattern Fetched..\n"
     ]
    }
   ],
   "source": [
    "## Exract the word that starts with \"p\" and is 4 char long\n",
    "import re\n",
    "\n",
    "myString = \"python programming p pool pretrained prog trap trapped\"\n",
    "\n",
    "res = re.match(r\"\\bp\\w\\w\\w\\b\", myString) # p _ _ _\n",
    "\n",
    "if res : \n",
    "    print(\"Patterns Found : \",  res.group() )\n",
    "else : \n",
    "    print(\"No Such Pattern Fetched..\")\n"
   ]
  },
  {
   "cell_type": "code",
   "execution_count": 101,
   "id": "dd07c6ef",
   "metadata": {},
   "outputs": [
    {
     "name": "stdout",
     "output_type": "stream",
     "text": [
      "Patterns Found :  pool\n"
     ]
    }
   ],
   "source": [
    "## Exract the word that starts with \"p\" and is 4 char long\n",
    "import re\n",
    "\n",
    "myString = \"pool python programming p pretrained prog trap trapped\"\n",
    "\n",
    "res = re.match(r\"\\bp\\w\\w\\w\\b\", myString) # p _ _ _\n",
    "\n",
    "if res : \n",
    "    print(\"Patterns Found : \",  res.group() )\n",
    "else : \n",
    "    print(\"No Such Pattern Fetched..\")\n"
   ]
  },
  {
   "cell_type": "code",
   "execution_count": null,
   "id": "c246d087",
   "metadata": {},
   "outputs": [],
   "source": []
  },
  {
   "cell_type": "markdown",
   "id": "872e17e3",
   "metadata": {},
   "source": [
    "### 4. sub\n",
    "\n",
    "- string replacement action\n",
    "\n",
    "re.sub(oldPattern, newPattern, stringName)"
   ]
  },
  {
   "cell_type": "code",
   "execution_count": 102,
   "id": "f26c42af",
   "metadata": {},
   "outputs": [
    {
     "data": {
      "text/plain": [
       "['m', 'a', 'd', 'a', 'm']"
      ]
     },
     "execution_count": 102,
     "metadata": {},
     "output_type": "execute_result"
    }
   ],
   "source": [
    "# there is a hidden alphabet in the string. find out weather its palindrome or not ???\n",
    "# word = madam\n",
    "\n",
    "inputString = \"!@#m$%^&*a()+}{d:?>a<}/*-+][;'/.m,']\"\n",
    "\n",
    "res = re.findall( r\"\\w\", inputString )\n",
    "res\n"
   ]
  },
  {
   "cell_type": "code",
   "execution_count": 104,
   "id": "32e22ccb",
   "metadata": {},
   "outputs": [
    {
     "name": "stdout",
     "output_type": "stream",
     "text": [
      "['!', '@', '#', '$', '%', '^', '&', '*', '(', ')', '+', '}', '{', ':', '?', '>', '<', '}', '/', '*', '-', '+', ']', '[', ';', \"'\", '/', '.', ',', \"'\", ']']\n"
     ]
    }
   ],
   "source": [
    "# there is a hidden alphabet in the string. find out weather its palindrome or not ???\n",
    "# word = madam\n",
    "\n",
    "inputString = \"!@#m$%^&*a()+}{d:?>a<}/*-+][;'/.m,']\"\n",
    "\n",
    "res = re.findall( r\"\\W\", inputString )\n",
    "print( res )\n"
   ]
  },
  {
   "cell_type": "code",
   "execution_count": 107,
   "id": "b028a4a7",
   "metadata": {},
   "outputs": [
    {
     "data": {
      "text/plain": [
       "'madam'"
      ]
     },
     "execution_count": 107,
     "metadata": {},
     "output_type": "execute_result"
    }
   ],
   "source": [
    "# there is a hidden alphabet in the string. find out weather its palindrome or not ???\n",
    "# word = madam\n",
    "\n",
    "inputString = \"!@#m$%^&*a()+}{d:?>a<}/*-+][;'/.m,']\"\n",
    "\n",
    "res = re.sub( r\"\\W\",\"\",  inputString )\n",
    "res\n"
   ]
  },
  {
   "cell_type": "code",
   "execution_count": 110,
   "id": "c5e7d483",
   "metadata": {},
   "outputs": [
    {
     "data": {
      "text/plain": [
       "'an otp **************** is sent to mobile numbers **************** and ****************'"
      ]
     },
     "execution_count": 110,
     "metadata": {},
     "output_type": "execute_result"
    }
   ],
   "source": [
    "# mask all mobile numbers\n",
    "\n",
    "msg = \"an otp 5885 is sent to mobile numbers 9987455521 and 99666633\"\n",
    "# string split - isdigit() - chech len for mobile\n",
    "\n",
    "res = re.sub( r\"\\d{1,}\", \"****************\", msg)\n",
    "res\n",
    "\n"
   ]
  },
  {
   "cell_type": "code",
   "execution_count": null,
   "id": "36a890b3",
   "metadata": {},
   "outputs": [],
   "source": [
    "# mask all email adddress\n",
    "\n",
    "msg = \"an otp 5885 is sent to mobile numbers nitish@yahoo.com and sachin@@gamil.com\"\n",
    "\n",
    "res = \n"
   ]
  },
  {
   "cell_type": "code",
   "execution_count": 125,
   "id": "ba9c9f66",
   "metadata": {},
   "outputs": [
    {
     "data": {
      "text/plain": [
       "['nitish.vig@yahoo.com']"
      ]
     },
     "execution_count": 125,
     "metadata": {},
     "output_type": "execute_result"
    }
   ],
   "source": [
    "w = 'nitish.vig@yahoo.com'\n",
    "res = re.findall(r\"\\w{1,}[.|_]\\w{1,}@\\w{1,}.\\w{1,}\", w)\n",
    "res"
   ]
  },
  {
   "cell_type": "code",
   "execution_count": null,
   "id": "f99acf4e",
   "metadata": {},
   "outputs": [],
   "source": []
  },
  {
   "cell_type": "markdown",
   "id": "a8b1df7d",
   "metadata": {},
   "source": [
    "### 5. split\n",
    "\n",
    "- string split action\n",
    "\n",
    "re.split(pattern, string)"
   ]
  },
  {
   "cell_type": "code",
   "execution_count": 121,
   "id": "39eec067",
   "metadata": {},
   "outputs": [
    {
     "data": {
      "text/plain": [
       "['', ' is my email address']"
      ]
     },
     "execution_count": 121,
     "metadata": {},
     "output_type": "execute_result"
    }
   ],
   "source": [
    "w = 'nitish.vig@yahoo.com is my email address'\n",
    "res = re.split(r\"\\w{1,}[.|_]{0,}\\w{1,}@\\w{1,}.\\w{1,}\", w)\n",
    "res"
   ]
  },
  {
   "cell_type": "code",
   "execution_count": 122,
   "id": "3fab5867",
   "metadata": {},
   "outputs": [
    {
     "data": {
      "text/plain": [
       "['nitish.vig@yahoo.com', 'is', 'my', 'email', 'address']"
      ]
     },
     "execution_count": 122,
     "metadata": {},
     "output_type": "execute_result"
    }
   ],
   "source": [
    "w.split(\" \")"
   ]
  },
  {
   "cell_type": "code",
   "execution_count": null,
   "id": "8d3a75fb",
   "metadata": {},
   "outputs": [],
   "source": []
  },
  {
   "cell_type": "code",
   "execution_count": null,
   "id": "18a20534",
   "metadata": {},
   "outputs": [],
   "source": []
  },
  {
   "cell_type": "code",
   "execution_count": null,
   "id": "414e5178",
   "metadata": {},
   "outputs": [],
   "source": []
  },
  {
   "cell_type": "code",
   "execution_count": null,
   "id": "7a03fdd4",
   "metadata": {},
   "outputs": [],
   "source": []
  },
  {
   "cell_type": "code",
   "execution_count": null,
   "id": "7a9d0401",
   "metadata": {},
   "outputs": [],
   "source": []
  },
  {
   "cell_type": "code",
   "execution_count": null,
   "id": "e8767dd0",
   "metadata": {},
   "outputs": [],
   "source": []
  },
  {
   "cell_type": "code",
   "execution_count": null,
   "id": "3e41e80a",
   "metadata": {},
   "outputs": [],
   "source": []
  }
 ],
 "metadata": {
  "kernelspec": {
   "display_name": "Python 3 (ipykernel)",
   "language": "python",
   "name": "python3"
  },
  "language_info": {
   "codemirror_mode": {
    "name": "ipython",
    "version": 3
   },
   "file_extension": ".py",
   "mimetype": "text/x-python",
   "name": "python",
   "nbconvert_exporter": "python",
   "pygments_lexer": "ipython3",
   "version": "3.9.13"
  }
 },
 "nbformat": 4,
 "nbformat_minor": 5
}
